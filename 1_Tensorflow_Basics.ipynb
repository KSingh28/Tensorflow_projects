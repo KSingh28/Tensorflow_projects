{
  "nbformat": 4,
  "nbformat_minor": 0,
  "metadata": {
    "colab": {
      "provenance": [],
      "authorship_tag": "ABX9TyNCR+ElELP/zcytEhRJhrAC",
      "include_colab_link": true
    },
    "kernelspec": {
      "name": "python3",
      "display_name": "Python 3"
    },
    "language_info": {
      "name": "python"
    }
  },
  "cells": [
    {
      "cell_type": "markdown",
      "metadata": {
        "id": "view-in-github",
        "colab_type": "text"
      },
      "source": [
        "<a href=\"https://colab.research.google.com/github/KSingh28/Tensorflow_projects/blob/main/1_Tensorflow_Basics.ipynb\" target=\"_parent\"><img src=\"https://colab.research.google.com/assets/colab-badge.svg\" alt=\"Open In Colab\"/></a>"
      ]
    },
    {
      "cell_type": "code",
      "execution_count": 4,
      "metadata": {
        "id": "PVrcmWMXfmMg"
      },
      "outputs": [],
      "source": [
        "import tensorflow as tf\n",
        "import numpy as np"
      ]
    },
    {
      "cell_type": "code",
      "source": [
        "tensor_zero_dim=tf.constant(8)\n",
        "print(tensor_zero_dim)"
      ],
      "metadata": {
        "colab": {
          "base_uri": "https://localhost:8080/"
        },
        "id": "XbefuJv2f81w",
        "outputId": "849cd1c5-13b4-43b7-d267-d2c6cc78b00f"
      },
      "execution_count": 3,
      "outputs": [
        {
          "output_type": "stream",
          "name": "stdout",
          "text": [
            "tf.Tensor(8, shape=(), dtype=int32)\n"
          ]
        }
      ]
    },
    {
      "cell_type": "code",
      "source": [
        "tensor_one_dim_s1=tf.constant([1,9,7])\n",
        "print(tensor_one_dim_s1)\n",
        "tensor_one_dim_s2=tf.constant([1,9,7,-4,5.])\n",
        "print(tensor_one_dim_s2)"
      ],
      "metadata": {
        "colab": {
          "base_uri": "https://localhost:8080/"
        },
        "id": "_mvpe2aCgHZg",
        "outputId": "e7f479dc-9042-40db-ad95-a70327d6b57f"
      },
      "execution_count": 6,
      "outputs": [
        {
          "output_type": "stream",
          "name": "stdout",
          "text": [
            "tf.Tensor([1 9 7], shape=(3,), dtype=int32)\n",
            "tf.Tensor([ 1.  9.  7. -4.  5.], shape=(5,), dtype=float32)\n"
          ]
        }
      ]
    },
    {
      "cell_type": "markdown",
      "source": [
        "Create 2D Tensor"
      ],
      "metadata": {
        "id": "-uMQVHhJg8xL"
      }
    },
    {
      "cell_type": "code",
      "source": [
        "tensor_two_dim=tf.constant([\n",
        "    [1,6,7],\n",
        "    [2,5,7],\n",
        "    [8,9,5],\n",
        "    [2,4,3]\n",
        "    ])\n",
        "print(tensor_two_dim)"
      ],
      "metadata": {
        "colab": {
          "base_uri": "https://localhost:8080/"
        },
        "id": "k21Bduz0g-9P",
        "outputId": "7c06f3a6-6353-493a-c73b-807b6a1a1e9f"
      },
      "execution_count": 7,
      "outputs": [
        {
          "output_type": "stream",
          "name": "stdout",
          "text": [
            "tf.Tensor(\n",
            "[[1 6 7]\n",
            " [2 5 7]\n",
            " [8 9 5]\n",
            " [2 4 3]], shape=(4, 3), dtype=int32)\n"
          ]
        }
      ]
    },
    {
      "cell_type": "markdown",
      "source": [
        "**Create 3D Tensor**"
      ],
      "metadata": {
        "id": "bKxWItP7ho51"
      }
    },
    {
      "cell_type": "code",
      "source": [
        "tensor_three_dim=tf.constant([\n",
        "    [[1,6,7],\n",
        "    [2,5,7]],\n",
        "\n",
        "    [[8,9,5],\n",
        "    [2,4,3]],\n",
        "\n",
        "    [[9,9,8],\n",
        "    [5,4,5]],\n",
        "\n",
        "    [[3,6,1],\n",
        "    [7,3,2]],\n",
        "    ])\n",
        "print(tensor_three_dim)\n"
      ],
      "metadata": {
        "colab": {
          "base_uri": "https://localhost:8080/"
        },
        "id": "yyAht1hlhr2o",
        "outputId": "c9e0e14e-494f-4768-f557-add378e32be8"
      },
      "execution_count": 9,
      "outputs": [
        {
          "output_type": "stream",
          "name": "stdout",
          "text": [
            "tf.Tensor(\n",
            "[[[1 6 7]\n",
            "  [2 5 7]]\n",
            "\n",
            " [[8 9 5]\n",
            "  [2 4 3]]\n",
            "\n",
            " [[9 9 8]\n",
            "  [5 4 5]]\n",
            "\n",
            " [[3 6 1]\n",
            "  [7 3 2]]], shape=(4, 2, 3), dtype=int32)\n",
            "(4, 2, 3)\n"
          ]
        }
      ]
    },
    {
      "cell_type": "markdown",
      "source": [
        "**Different print functions to use**"
      ],
      "metadata": {
        "id": "o1NWtZTAiUuW"
      }
    },
    {
      "cell_type": "code",
      "source": [
        "print(tensor_three_dim.shape)\n",
        "print(tensor_three_dim.ndim)"
      ],
      "metadata": {
        "colab": {
          "base_uri": "https://localhost:8080/"
        },
        "id": "6VsdPSskiYQ3",
        "outputId": "1338120b-5c92-4edf-e797-1c7196472191"
      },
      "execution_count": 10,
      "outputs": [
        {
          "output_type": "stream",
          "name": "stdout",
          "text": [
            "(4, 2, 3)\n",
            "3\n"
          ]
        }
      ]
    },
    {
      "cell_type": "markdown",
      "source": [
        "**Create 4D Tensor**"
      ],
      "metadata": {
        "id": "5EJyC2bEi4zp"
      }
    },
    {
      "cell_type": "code",
      "source": [
        "tensor_four_dim=tf.constant([\n",
        "   [ [[1,6,7],\n",
        "    [2,5,7]],\n",
        "\n",
        "    [[8,9,5],\n",
        "    [2,4,3]],\n",
        "\n",
        "    [[9,9,8],\n",
        "    [5,4,5]],\n",
        "\n",
        "    [[3,6,1],\n",
        "    [7,3,2]],\n",
        "   ],\n",
        "\n",
        "   [ [[3,7,7],\n",
        "    [1,1,7]],\n",
        "\n",
        "    [[8,9,3],\n",
        "    [2,7,6]],\n",
        "\n",
        "    [[9,7,8],\n",
        "    [2,4,5]],\n",
        "\n",
        "    [[5,7,1],\n",
        "    [2,5,9]],\n",
        "   ],\n",
        "\n",
        "\n",
        "   [ [[1,8,3],\n",
        "    [4,6,9]],\n",
        "\n",
        "    [[5,6,5],\n",
        "    [3,5,8]],\n",
        "\n",
        "    [[7,4,7],\n",
        "    [2,4,3]],\n",
        "\n",
        "    [[4,1,1],\n",
        "    [8,9,3]],\n",
        "\n",
        "   ]\n",
        "    ])\n",
        "print(tensor_four_dim)"
      ],
      "metadata": {
        "colab": {
          "base_uri": "https://localhost:8080/"
        },
        "id": "9HGjCS_Oi8WO",
        "outputId": "0fa7805b-fbcd-4972-f962-c74d5689f3de"
      },
      "execution_count": 11,
      "outputs": [
        {
          "output_type": "stream",
          "name": "stdout",
          "text": [
            "tf.Tensor(\n",
            "[[[[1 6 7]\n",
            "   [2 5 7]]\n",
            "\n",
            "  [[8 9 5]\n",
            "   [2 4 3]]\n",
            "\n",
            "  [[9 9 8]\n",
            "   [5 4 5]]\n",
            "\n",
            "  [[3 6 1]\n",
            "   [7 3 2]]]\n",
            "\n",
            "\n",
            " [[[3 7 7]\n",
            "   [1 1 7]]\n",
            "\n",
            "  [[8 9 3]\n",
            "   [2 7 6]]\n",
            "\n",
            "  [[9 7 8]\n",
            "   [2 4 5]]\n",
            "\n",
            "  [[5 7 1]\n",
            "   [2 5 9]]]\n",
            "\n",
            "\n",
            " [[[1 8 3]\n",
            "   [4 6 9]]\n",
            "\n",
            "  [[5 6 5]\n",
            "   [3 5 8]]\n",
            "\n",
            "  [[7 4 7]\n",
            "   [2 4 3]]\n",
            "\n",
            "  [[4 1 1]\n",
            "   [8 9 3]]]], shape=(3, 4, 2, 3), dtype=int32)\n"
          ]
        }
      ]
    },
    {
      "cell_type": "markdown",
      "source": [
        "**Data Conversion**\n",
        "1.Convert to float\n",
        "2.Convert to float16-to save memory\n",
        "3.Cast float to int\n",
        "4.Cast to bool\n",
        "5. String Tensor\n"
      ],
      "metadata": {
        "id": "GUEH2eWRkDbU"
      }
    },
    {
      "cell_type": "code",
      "source": [
        "tensor_one_dim_c1=tf.constant([1,9,7,-4,5],dtype=tf.float32)\n",
        "print(tensor_one_dim_c1)\n",
        "tensor_one_dim_c2=tf.constant([1.,9,7,-4,5],dtype=tf.float16)\n",
        "print(tensor_one_dim_c2)\n",
        "tensor_one_dim_casted=tf.cast(tensor_one_dim_c2,dtype=tf.int16)\n",
        "print(tensor_one_dim_casted)\n",
        "tensor_one_dim_boo=tf.cast(tensor_one_dim_c2,dtype=tf.bool)\n",
        "print(tensor_one_dim_boo)\n",
        "tensor_string=tf.constant(['hello world','hola'])\n",
        "print(tensor_string)"
      ],
      "metadata": {
        "colab": {
          "base_uri": "https://localhost:8080/"
        },
        "id": "GJQgMWhBkF9W",
        "outputId": "366261bc-ad00-4ef2-8e68-db2d6cece0eb"
      },
      "execution_count": 23,
      "outputs": [
        {
          "output_type": "stream",
          "name": "stdout",
          "text": [
            "tf.Tensor([ 1.  9.  7. -4.  5.], shape=(5,), dtype=float32)\n",
            "tf.Tensor([ 1.  9.  7. -4.  5.], shape=(5,), dtype=float16)\n",
            "tf.Tensor([ 1  9  7 -4  5], shape=(5,), dtype=int16)\n",
            "tf.Tensor([ True  True  True  True  True], shape=(5,), dtype=bool)\n",
            "tf.Tensor([b'hello world' b'hola'], shape=(2,), dtype=string)\n"
          ]
        }
      ]
    },
    {
      "cell_type": "markdown",
      "source": [
        "**Convert numpy array into tensor**"
      ],
      "metadata": {
        "id": "HxgLPGPKmpi8"
      }
    },
    {
      "cell_type": "code",
      "source": [
        "np_array=np.array([1,2,4])\n",
        "print(np_array)\n",
        "np_array_converted=tf.convert_to_tensor(np_array)\n",
        "print(np_array_converted)"
      ],
      "metadata": {
        "colab": {
          "base_uri": "https://localhost:8080/"
        },
        "id": "K1nSmlHDmy4P",
        "outputId": "1f79166a-277d-42c2-bd7a-dc98196205dc"
      },
      "execution_count": 26,
      "outputs": [
        {
          "output_type": "stream",
          "name": "stdout",
          "text": [
            "[1 2 4]\n",
            "tf.Tensor([1 2 4], shape=(3,), dtype=int64)\n"
          ]
        }
      ]
    },
    {
      "cell_type": "markdown",
      "source": [
        "**Tensorflow eye method(tf.eye)- Construct an identity matrix**"
      ],
      "metadata": {
        "id": "3Vx04a8RnaZe"
      }
    },
    {
      "cell_type": "code",
      "source": [
        "test_eye_tensor = tf.eye(\n",
        "    num_rows=4,\n",
        "    num_columns=None,\n",
        "    batch_shape=None,\n",
        "    dtype=tf.dtypes.float32,\n",
        "    name=None\n",
        ")\n",
        "print(test_eye_tensor)\n",
        "\n",
        "three_eye_tensor = tf.eye(\n",
        "    num_rows=4,\n",
        "    num_columns=None,\n",
        "    batch_shape=None,\n",
        "    dtype=tf.dtypes.float16,\n",
        "    name=None\n",
        ")\n",
        "print(3*three_eye_tensor)\n",
        "\n",
        "boo_eye_tensor = tf.eye(\n",
        "    num_rows=4,\n",
        "    num_columns=None,\n",
        "    batch_shape=None,\n",
        "    dtype=tf.dtypes.bool,\n",
        "    name=None\n",
        ")\n",
        "print(3*three_eye_tensor)\n",
        "\n",
        "fivebyfive_eye_tensor = tf.eye(\n",
        "    num_rows=5,\n",
        "    num_columns=3,\n",
        "    batch_shape=None,\n",
        "    dtype=tf.dtypes.float32,\n",
        "    name=None\n",
        ")\n",
        "print(fivebyfive_eye_tensor)"
      ],
      "metadata": {
        "colab": {
          "base_uri": "https://localhost:8080/"
        },
        "id": "uWoQhd6dnxmA",
        "outputId": "1be34ac8-587d-45d0-f660-1892f8c9d384"
      },
      "execution_count": 35,
      "outputs": [
        {
          "output_type": "stream",
          "name": "stdout",
          "text": [
            "tf.Tensor(\n",
            "[[1. 0. 0. 0.]\n",
            " [0. 1. 0. 0.]\n",
            " [0. 0. 1. 0.]\n",
            " [0. 0. 0. 1.]], shape=(4, 4), dtype=float32)\n",
            "tf.Tensor(\n",
            "[[3. 0. 0. 0.]\n",
            " [0. 3. 0. 0.]\n",
            " [0. 0. 3. 0.]\n",
            " [0. 0. 0. 3.]], shape=(4, 4), dtype=float16)\n",
            "tf.Tensor(\n",
            "[[3. 0. 0. 0.]\n",
            " [0. 3. 0. 0.]\n",
            " [0. 0. 3. 0.]\n",
            " [0. 0. 0. 3.]], shape=(4, 4), dtype=float16)\n",
            "tf.Tensor(\n",
            "[[1. 0. 0.]\n",
            " [0. 1. 0.]\n",
            " [0. 0. 1.]\n",
            " [0. 0. 0.]\n",
            " [0. 0. 0.]], shape=(5, 3), dtype=float32)\n"
          ]
        }
      ]
    },
    {
      "cell_type": "code",
      "source": [
        "batch_eye_tensor = tf.eye(\n",
        "    num_rows=5,\n",
        "    num_columns=None,\n",
        "    batch_shape=[2,],\n",
        "    dtype=tf.dtypes.float32,\n",
        "    name=None\n",
        ")\n",
        "print(batch_eye_tensor)"
      ],
      "metadata": {
        "colab": {
          "base_uri": "https://localhost:8080/"
        },
        "id": "OyJQQTS-plxQ",
        "outputId": "52291ddb-e51f-4988-d807-2b54fb4d4488"
      },
      "execution_count": 37,
      "outputs": [
        {
          "output_type": "stream",
          "name": "stdout",
          "text": [
            "tf.Tensor(\n",
            "[[[1. 0. 0. 0. 0.]\n",
            "  [0. 1. 0. 0. 0.]\n",
            "  [0. 0. 1. 0. 0.]\n",
            "  [0. 0. 0. 1. 0.]\n",
            "  [0. 0. 0. 0. 1.]]\n",
            "\n",
            " [[1. 0. 0. 0. 0.]\n",
            "  [0. 1. 0. 0. 0.]\n",
            "  [0. 0. 1. 0. 0.]\n",
            "  [0. 0. 0. 1. 0.]\n",
            "  [0. 0. 0. 0. 1.]]], shape=(2, 5, 5), dtype=float32)\n"
          ]
        }
      ]
    },
    {
      "cell_type": "markdown",
      "source": [
        "#Fill method"
      ],
      "metadata": {
        "id": "3sD_2MQ0Ln1E"
      }
    },
    {
      "cell_type": "code",
      "source": [
        "fill_tensor=tf.fill(\n",
        "    [1,3,4],5,None\n",
        ")\n",
        "print(fill_tensor)"
      ],
      "metadata": {
        "colab": {
          "base_uri": "https://localhost:8080/"
        },
        "id": "A8bjoSTfLrlo",
        "outputId": "1ef88c93-2323-4f09-f0a7-5fc080519e2b"
      },
      "execution_count": 39,
      "outputs": [
        {
          "output_type": "stream",
          "name": "stdout",
          "text": [
            "tf.Tensor(\n",
            "[[[5 5 5 5]\n",
            "  [5 5 5 5]\n",
            "  [5 5 5 5]]], shape=(1, 3, 4), dtype=int32)\n"
          ]
        }
      ]
    },
    {
      "cell_type": "markdown",
      "source": [
        "#Ones method\n",
        "1.Zero tensor(tf.zeroes)\n",
        "2.Ones tensor\n",
        "3.ones_like- Create tensor of all ones that has the same shape as input"
      ],
      "metadata": {
        "id": "l-jNpZXNMStc"
      }
    },
    {
      "cell_type": "code",
      "source": [
        "ones_tensor=tf.ones(\n",
        "    [1,5],\n",
        "    dtype=tf.dtypes.float16,\n",
        "    name=None\n",
        "    )\n",
        "print(ones_tensor)\n",
        "\n",
        "ones_like_tensor = tf.ones_like(fill_tensor)\n",
        "print(ones_like_tensor)"
      ],
      "metadata": {
        "colab": {
          "base_uri": "https://localhost:8080/"
        },
        "id": "D1xniXxZMVcQ",
        "outputId": "18cb6d92-54bd-43db-fb49-6dc246aef477"
      },
      "execution_count": 42,
      "outputs": [
        {
          "output_type": "stream",
          "name": "stdout",
          "text": [
            "tf.Tensor([[1. 1. 1. 1. 1.]], shape=(1, 5), dtype=float16)\n",
            "tf.Tensor(\n",
            "[[[1 1 1 1]\n",
            "  [1 1 1 1]\n",
            "  [1 1 1 1]]], shape=(1, 3, 4), dtype=int32)\n"
          ]
        }
      ]
    },
    {
      "cell_type": "markdown",
      "source": [
        "**tf.shape method**\n",
        "Contaianing the shape of the input tensor\n",
        "**tf.rank method**"
      ],
      "metadata": {
        "id": "yL-8S-nDW0Js"
      }
    },
    {
      "cell_type": "code",
      "source": [
        "print(tf.shape(ones_tensor))\n",
        "t=tf.constant([[1,5,5],[25,6,5]])\n",
        "tf.rank(t)\n"
      ],
      "metadata": {
        "colab": {
          "base_uri": "https://localhost:8080/"
        },
        "id": "aOXGupldXHA4",
        "outputId": "0a3e3307-256e-42fd-c35f-8e6536008d2e"
      },
      "execution_count": 47,
      "outputs": [
        {
          "output_type": "stream",
          "name": "stdout",
          "text": [
            "tf.Tensor([1 5], shape=(2,), dtype=int32)\n"
          ]
        },
        {
          "output_type": "execute_result",
          "data": {
            "text/plain": [
              "<tf.Tensor: shape=(), dtype=int32, numpy=2>"
            ]
          },
          "metadata": {},
          "execution_count": 47
        }
      ]
    },
    {
      "cell_type": "markdown",
      "source": [
        "tf.size method- returns size of tensor"
      ],
      "metadata": {
        "id": "WEMt_RqfYANm"
      }
    },
    {
      "cell_type": "code",
      "source": [
        "t=tf.constant([[1,5,5],[25,6,5],[5,4,9]])\n",
        "tf.size(t)\n",
        "tf.size(t,out_type=tf.float32)"
      ],
      "metadata": {
        "colab": {
          "base_uri": "https://localhost:8080/"
        },
        "id": "lccnRoJVYEbn",
        "outputId": "353140f1-b58d-42a1-ba08-92af8c3608c1"
      },
      "execution_count": 49,
      "outputs": [
        {
          "output_type": "execute_result",
          "data": {
            "text/plain": [
              "<tf.Tensor: shape=(), dtype=float32, numpy=9.0>"
            ]
          },
          "metadata": {},
          "execution_count": 49
        }
      ]
    },
    {
      "cell_type": "markdown",
      "source": [
        "#**Random Tensor**"
      ],
      "metadata": {
        "id": "hA90Rt8uYk4u"
      }
    },
    {
      "cell_type": "code",
      "source": [
        "ran_tensor = tf.random.normal(\n",
        "    [4,2],\n",
        "    mean=0,\n",
        "    stddev=1.0,\n",
        "    dtype=tf.dtypes.float32,\n",
        "    seed=None,\n",
        "    name=None\n",
        ")\n",
        "print(ran_tensor)\n",
        "\n",
        "ran_tensor = tf.random.normal(\n",
        "    [4,2],\n",
        "    mean=80,\n",
        "    stddev=1.0,\n",
        "    dtype=tf.dtypes.float32,\n",
        "    seed=None,\n",
        "    name=None\n",
        ")\n",
        "print(ran_tensor)"
      ],
      "metadata": {
        "colab": {
          "base_uri": "https://localhost:8080/"
        },
        "id": "iwAQP9e7Ynyr",
        "outputId": "a897cebb-9254-4fed-a751-a061101810f0"
      },
      "execution_count": 52,
      "outputs": [
        {
          "output_type": "stream",
          "name": "stdout",
          "text": [
            "tf.Tensor(\n",
            "[[-0.8260501   0.3456349 ]\n",
            " [ 1.9474539  -0.07468411]\n",
            " [ 2.5874043   1.3668696 ]\n",
            " [-0.19406663  0.9581556 ]], shape=(4, 2), dtype=float32)\n",
            "tf.Tensor(\n",
            "[[80.830666 78.22471 ]\n",
            " [80.17331  79.598694]\n",
            " [80.99979  80.561935]\n",
            " [80.043755 80.10987 ]], shape=(4, 2), dtype=float32)\n"
          ]
        }
      ]
    },
    {
      "cell_type": "markdown",
      "source": [
        "#Uniform distribution- max value defaults to 1,min to 0 in tensorflow\n",
        "Need to define maxval when datatype=integer"
      ],
      "metadata": {
        "id": "nHVyah-za32P"
      }
    },
    {
      "cell_type": "code",
      "source": [
        "uniform_tensor=tf.random.uniform(\n",
        "    (2,), minval=0,\n",
        "    maxval=None,\n",
        "    dtype=tf.dtypes.float32,\n",
        "    seed=None, name=None\n",
        ")\n",
        "print(uniform_tensor)\n",
        "\n",
        "uniform_tensor_two=tf.random.uniform(\n",
        "    (2,), minval=0,\n",
        "    maxval=9,\n",
        "    dtype=tf.dtypes.float32,\n",
        "    seed=None, name=None\n",
        ")\n",
        "print(uniform_tensor_two)\n",
        "\n",
        "uniform_tensor_three=tf.random.uniform(\n",
        "    (2,), minval=0,\n",
        "    maxval=9,\n",
        "    dtype=tf.dtypes.int32,\n",
        "    seed=None, name=None\n",
        ")\n",
        "print(uniform_tensor_three)"
      ],
      "metadata": {
        "colab": {
          "base_uri": "https://localhost:8080/"
        },
        "id": "HMsp6Dica7HD",
        "outputId": "4237209a-5c19-4cb9-db14-fcc39d44ce1f"
      },
      "execution_count": 60,
      "outputs": [
        {
          "output_type": "stream",
          "name": "stdout",
          "text": [
            "tf.Tensor([0.65782845 0.58047044], shape=(2,), dtype=float32)\n",
            "tf.Tensor([6.568997   0.08376324], shape=(2,), dtype=float32)\n",
            "tf.Tensor([1 7], shape=(2,), dtype=int32)\n"
          ]
        }
      ]
    },
    {
      "cell_type": "markdown",
      "source": [
        "**tf.random.set_seed**\n",
        "To create a reproducible sequence of tensors across multiple calls"
      ],
      "metadata": {
        "id": "-yOLwA54c9qi"
      }
    },
    {
      "cell_type": "code",
      "source": [
        "tf.random.set_seed(4)\n",
        "print(tf.random.uniform(shape=[3,], maxval=8, dtype=tf.int32, seed=9))\n",
        "print(tf.random.uniform(shape=[3,], maxval=5, dtype=tf.int32, seed=10))\n",
        "print(tf.random.uniform(shape=[3,], maxval=5, dtype=tf.int32, seed=10))\n",
        "print(tf.random.uniform(shape=[3,], maxval=5, dtype=tf.int32, seed=10))"
      ],
      "metadata": {
        "colab": {
          "base_uri": "https://localhost:8080/"
        },
        "id": "LejSy9AnddJ7",
        "outputId": "3dc28b68-90e4-490b-ae9a-a7797b913aae"
      },
      "execution_count": 64,
      "outputs": [
        {
          "output_type": "stream",
          "name": "stdout",
          "text": [
            "tf.Tensor([1 2 3], shape=(3,), dtype=int32)\n",
            "tf.Tensor([2 4 1], shape=(3,), dtype=int32)\n",
            "tf.Tensor([3 4 3], shape=(3,), dtype=int32)\n",
            "tf.Tensor([3 4 0], shape=(3,), dtype=int32)\n"
          ]
        }
      ]
    },
    {
      "cell_type": "markdown",
      "source": [
        "**Indexing**"
      ],
      "metadata": {
        "id": "0uG57nlXdO2V"
      }
    },
    {
      "cell_type": "code",
      "source": [
        "tensor_indexing=tf.constant([3,4,8,9,12,5,88])\n",
        "print(tensor_indexing)\n",
        "print(tensor_indexing[0:3])\n",
        "print(tensor_indexing[1:5])\n",
        "#print from 4,8,9,12,5\n",
        "print(tensor_indexing[1:5])\n",
        "print(tensor_indexing[1:5+1])\n",
        "#include the steps\n",
        "print(tensor_indexing[1:6:2])\n",
        "#when don't specify minindex, its considered as 0\n",
        "print(tensor_indexing[:4])\n",
        "#when no maxindex, considered end of index\n",
        "print(tensor_indexing[1:])\n",
        "print(tensor_indexing[1:-1])"
      ],
      "metadata": {
        "colab": {
          "base_uri": "https://localhost:8080/"
        },
        "id": "Sim3ZdJbdmez",
        "outputId": "7be94b09-4a94-4ff7-bff4-b945247fe6b1"
      },
      "execution_count": 12,
      "outputs": [
        {
          "output_type": "stream",
          "name": "stdout",
          "text": [
            "tf.Tensor([ 3  4  8  9 12  5 88], shape=(7,), dtype=int32)\n",
            "tf.Tensor([3 4 8], shape=(3,), dtype=int32)\n",
            "tf.Tensor([ 4  8  9 12], shape=(4,), dtype=int32)\n",
            "tf.Tensor([ 4  8  9 12], shape=(4,), dtype=int32)\n",
            "tf.Tensor([ 4  8  9 12  5], shape=(5,), dtype=int32)\n",
            "tf.Tensor([4 9 5], shape=(3,), dtype=int32)\n",
            "tf.Tensor([3 4 8 9], shape=(4,), dtype=int32)\n",
            "tf.Tensor([ 4  8  9 12  5 88], shape=(6,), dtype=int32)\n",
            "tf.Tensor([ 4  8  9 12  5], shape=(5,), dtype=int32)\n"
          ]
        }
      ]
    },
    {
      "cell_type": "markdown",
      "source": [
        "#Indexing in 2D tensors"
      ],
      "metadata": {
        "id": "Z_q5BI_9oe1x"
      }
    },
    {
      "cell_type": "code",
      "source": [
        "tensor_two_dim=tf.constant([\n",
        "    [1,6,7],\n",
        "    [2,5,7],\n",
        "    [8,9,5],\n",
        "    [2,4,3]\n",
        "    ])\n",
        "#first oart is rows and second part is column\n",
        "print(tensor_two_dim[0:3,0:2])\n",
        "#first 3 rows and all columns\n",
        "print(tensor_two_dim[0:3,:])\n",
        "#particular row and all columns\n",
        "print(tensor_two_dim[2,:])\n",
        "#particular row(3) and 2 column\n",
        "print(tensor_two_dim[2,1])\n",
        "#all the rows in 2 ways(three dots picks up all the indexes)\n",
        "print(tensor_two_dim[:,1])\n",
        "print(tensor_two_dim[...,1])"
      ],
      "metadata": {
        "colab": {
          "base_uri": "https://localhost:8080/"
        },
        "id": "aJ8qtYk5oit5",
        "outputId": "e2029f60-2e9d-4c5e-f9c1-ac8308047ae0"
      },
      "execution_count": 18,
      "outputs": [
        {
          "output_type": "stream",
          "name": "stdout",
          "text": [
            "tf.Tensor(\n",
            "[[1 6]\n",
            " [2 5]\n",
            " [8 9]], shape=(3, 2), dtype=int32)\n",
            "tf.Tensor(\n",
            "[[1 6 7]\n",
            " [2 5 7]\n",
            " [8 9 5]], shape=(3, 3), dtype=int32)\n",
            "tf.Tensor([8 9 5], shape=(3,), dtype=int32)\n",
            "tf.Tensor(9, shape=(), dtype=int32)\n",
            "tf.Tensor([6 5 9 4], shape=(4,), dtype=int32)\n",
            "tf.Tensor([6 5 9 4], shape=(4,), dtype=int32)\n"
          ]
        }
      ]
    },
    {
      "cell_type": "markdown",
      "source": [
        "#Indexing in 3D tensors"
      ],
      "metadata": {
        "id": "xPOvH-lcsr0_"
      }
    },
    {
      "cell_type": "code",
      "source": [
        "tensor_three_dim=tf.constant([\n",
        "    [[1,6,7],\n",
        "    [2,5,7]],\n",
        "\n",
        "    [[8,9,5],\n",
        "    [2,4,3]],\n",
        "\n",
        "    [[9,9,8],\n",
        "    [5,4,5]],\n",
        "\n",
        "    [[3,6,1],\n",
        "    [7,3,2]],\n",
        "    ])\n",
        "#pick first index\n",
        "print(tensor_three_dim[0,:,:])\n",
        "#pick first index first row\n",
        "print(tensor_three_dim[0,0,:])\n",
        "#pick 2 indexes both rows, third column\n",
        "print(tensor_three_dim[0:2,:,2])\n",
        "print(tensor_three_dim[...,:,-1])\n"
      ],
      "metadata": {
        "colab": {
          "base_uri": "https://localhost:8080/"
        },
        "id": "ImwFUKA-sumD",
        "outputId": "6cc5389d-5896-47ac-a6a1-2ac3a15b8e08"
      },
      "execution_count": 23,
      "outputs": [
        {
          "output_type": "stream",
          "name": "stdout",
          "text": [
            "tf.Tensor(\n",
            "[[1 6 7]\n",
            " [2 5 7]], shape=(2, 3), dtype=int32)\n",
            "tf.Tensor([1 6 7], shape=(3,), dtype=int32)\n",
            "tf.Tensor(\n",
            "[[7 7]\n",
            " [5 3]], shape=(2, 2), dtype=int32)\n",
            "tf.Tensor(\n",
            "[[7 7]\n",
            " [5 3]\n",
            " [8 5]\n",
            " [1 2]], shape=(4, 2), dtype=int32)\n"
          ]
        }
      ]
    }
  ]
}