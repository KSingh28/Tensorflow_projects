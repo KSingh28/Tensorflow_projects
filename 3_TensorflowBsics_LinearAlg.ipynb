{
  "nbformat": 4,
  "nbformat_minor": 0,
  "metadata": {
    "colab": {
      "provenance": [],
      "authorship_tag": "ABX9TyMZeJIdPOv2ZgnkW99Ld7iP",
      "include_colab_link": true
    },
    "kernelspec": {
      "name": "python3",
      "display_name": "Python 3"
    },
    "language_info": {
      "name": "python"
    }
  },
  "cells": [
    {
      "cell_type": "markdown",
      "metadata": {
        "id": "view-in-github",
        "colab_type": "text"
      },
      "source": [
        "<a href=\"https://colab.research.google.com/github/KSingh28/Tensorflow_projects/blob/main/3_TensorflowBsics_LinearAlg.ipynb\" target=\"_parent\"><img src=\"https://colab.research.google.com/assets/colab-badge.svg\" alt=\"Open In Colab\"/></a>"
      ]
    },
    {
      "cell_type": "code",
      "execution_count": 2,
      "metadata": {
        "id": "GfcKOIlcY2hg"
      },
      "outputs": [],
      "source": [
        "import tensorflow as tf"
      ]
    },
    {
      "cell_type": "markdown",
      "source": [
        "#tf.linalg.matmul- total number of columns in the first tensor must match the total number of rows in the second tensor\n",
        "#neuralearn.ai"
      ],
      "metadata": {
        "id": "rhZl99tfY_KD"
      }
    },
    {
      "cell_type": "markdown",
      "source": [],
      "metadata": {
        "id": "C6RbvFJyVVVG"
      }
    },
    {
      "cell_type": "code",
      "source": [
        "x1=tf.constant([[4,3,6],\n",
        "                [5,1,8]])\n",
        "x2=tf.constant([[9,2,5],\n",
        "                [4,3,7],\n",
        "                [3,2,3]])\n",
        "tf.linalg.matmul(x1,x2, transpose_a=False, transpose_b=False, adjoint_a=False, adjoint_b=False, a_is_sparse=False,\n",
        "                  b_is_sparse=False, output_type=None, name=None)\n"
      ],
      "metadata": {
        "colab": {
          "base_uri": "https://localhost:8080/"
        },
        "id": "wa5-7TzdbHAo",
        "outputId": "9f3e33e8-d5d0-4e02-b76a-fb3b414d2499"
      },
      "execution_count": 10,
      "outputs": [
        {
          "output_type": "execute_result",
          "data": {
            "text/plain": [
              "<tf.Tensor: shape=(2, 3), dtype=int32, numpy=\n",
              "array([[66, 29, 59],\n",
              "       [73, 29, 56]], dtype=int32)>"
            ]
          },
          "metadata": {},
          "execution_count": 10
        }
      ]
    },
    {
      "cell_type": "code",
      "source": [
        "#Another way to perform matrix multiplication using '@'\n",
        "print(x1@x2)\n",
        "x1@x2"
      ],
      "metadata": {
        "colab": {
          "base_uri": "https://localhost:8080/"
        },
        "id": "KLu6K_di3N8j",
        "outputId": "1569d14b-b91e-470a-ce7c-086b708a6fa9"
      },
      "execution_count": 11,
      "outputs": [
        {
          "output_type": "stream",
          "name": "stdout",
          "text": [
            "tf.Tensor(\n",
            "[[66 29 59]\n",
            " [73 29 56]], shape=(2, 3), dtype=int32)\n"
          ]
        },
        {
          "output_type": "execute_result",
          "data": {
            "text/plain": [
              "<tf.Tensor: shape=(2, 3), dtype=int32, numpy=\n",
              "array([[66, 29, 59],\n",
              "       [73, 29, 56]], dtype=int32)>"
            ]
          },
          "metadata": {},
          "execution_count": 11
        }
      ]
    },
    {
      "cell_type": "markdown",
      "source": [
        "#Matrix Transpose- To perform transpose,\n",
        "#shape value of column x1=shape value of row x2"
      ],
      "metadata": {
        "id": "8db7EcpB322n"
      }
    },
    {
      "cell_type": "code",
      "source": [
        "tf.transpose(x1)"
      ],
      "metadata": {
        "colab": {
          "base_uri": "https://localhost:8080/"
        },
        "id": "V54wIh6r39RC",
        "outputId": "2054633a-5247-4539-8bf6-cfc63232e20d"
      },
      "execution_count": 12,
      "outputs": [
        {
          "output_type": "execute_result",
          "data": {
            "text/plain": [
              "<tf.Tensor: shape=(3, 2), dtype=int32, numpy=\n",
              "array([[4, 5],\n",
              "       [3, 1],\n",
              "       [6, 8]], dtype=int32)>"
            ]
          },
          "metadata": {},
          "execution_count": 12
        }
      ]
    },
    {
      "cell_type": "code",
      "source": [
        "x1=[[3,5,6],\n",
        "    [2,7,9]]\n",
        "x2=[[2,8],\n",
        "    [4,5],\n",
        "    [7,7]\n",
        "    ]\n",
        "print(tf.transpose(x1).shape,tf.transpose(x2).shape)\n",
        "print(tf.transpose(x1)@tf.transpose(x2))\n",
        "#same output when transpose_a=True, transpose_b=True,\n",
        "tf.linalg.matmul(x1,x2, transpose_a=True, transpose_b=True, adjoint_a=False, adjoint_b=False, a_is_sparse=False,\n",
        "                  b_is_sparse=False, output_type=None, name=None)\n",
        "\n",
        "#adjoint value in matmul is same as transpose"
      ],
      "metadata": {
        "colab": {
          "base_uri": "https://localhost:8080/"
        },
        "id": "Cgp19kXH5eaA",
        "outputId": "3842d471-0641-46ff-85df-c228f5d27ce2"
      },
      "execution_count": 19,
      "outputs": [
        {
          "output_type": "stream",
          "name": "stdout",
          "text": [
            "(3, 2) (2, 3)\n",
            "tf.Tensor(\n",
            "[[ 22  22  35]\n",
            " [ 66  55  84]\n",
            " [ 84  69 105]], shape=(3, 3), dtype=int32)\n"
          ]
        },
        {
          "output_type": "execute_result",
          "data": {
            "text/plain": [
              "<tf.Tensor: shape=(3, 3), dtype=int32, numpy=\n",
              "array([[ 22,  22,  35],\n",
              "       [ 66,  55,  84],\n",
              "       [ 84,  69, 105]], dtype=int32)>"
            ]
          },
          "metadata": {},
          "execution_count": 19
        }
      ]
    }
  ]
}