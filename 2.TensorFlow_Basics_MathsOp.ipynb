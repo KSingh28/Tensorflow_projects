{
  "nbformat": 4,
  "nbformat_minor": 0,
  "metadata": {
    "colab": {
      "provenance": [],
      "authorship_tag": "ABX9TyNrCpvYO2LIXOLV2oFIWZGP"
    },
    "kernelspec": {
      "name": "python3",
      "display_name": "Python 3"
    },
    "language_info": {
      "name": "python"
    }
  },
  "cells": [
    {
      "cell_type": "code",
      "execution_count": 2,
      "metadata": {
        "id": "uX-x88OczTqM"
      },
      "outputs": [],
      "source": [
        "import tensorflow as tf"
      ]
    },
    {
      "cell_type": "markdown",
      "source": [
        "#Absolute value-converts -ve to +ve, +ve to +ve\n",
        "abs(x)={-x, x<0\n",
        "        x, x>0}"
      ],
      "metadata": {
        "id": "abTu9fGIbW8n"
      }
    },
    {
      "cell_type": "code",
      "source": [
        "y_abslt=tf.constant([-2.25,3.25])\n",
        "tf.abs(y_abslt)\n",
        "tf.abs(tf.constant(-0.25))"
      ],
      "metadata": {
        "colab": {
          "base_uri": "https://localhost:8080/"
        },
        "id": "V0hZGeSeba8x",
        "outputId": "05f75541-6a20-422e-9870-626e8d7b25dc"
      },
      "execution_count": 6,
      "outputs": [
        {
          "output_type": "stream",
          "name": "stdout",
          "text": [
            "tf.Tensor(0.25, shape=(), dtype=float32)\n"
          ]
        }
      ]
    },
    {
      "cell_type": "code",
      "source": [
        "z_abs_complex=tf.constant([-2.25+4.75j])\n",
        "tf.abs(z_abs_complex)"
      ],
      "metadata": {
        "colab": {
          "base_uri": "https://localhost:8080/"
        },
        "id": "pw89slNFdIho",
        "outputId": "42f49187-bdcf-4128-88f5-ba9de844bb85"
      },
      "execution_count": 9,
      "outputs": [
        {
          "output_type": "execute_result",
          "data": {
            "text/plain": [
              "<tf.Tensor: shape=(1,), dtype=float64, numpy=array([5.25594901])>"
            ]
          },
          "metadata": {},
          "execution_count": 9
        }
      ]
    },
    {
      "cell_type": "code",
      "source": [
        "#calculate square root\n",
        "tf.sqrt([-2.25**2+4.75**2])"
      ],
      "metadata": {
        "colab": {
          "base_uri": "https://localhost:8080/"
        },
        "id": "VpIUTb3odx7S",
        "outputId": "14893ec4-50c5-4f60-ca05-84fead9acc03"
      },
      "execution_count": 10,
      "outputs": [
        {
          "output_type": "execute_result",
          "data": {
            "text/plain": [
              "<tf.Tensor: shape=(1,), dtype=float32, numpy=array([4.1833], dtype=float32)>"
            ]
          },
          "metadata": {},
          "execution_count": 10
        }
      ]
    },
    {
      "cell_type": "markdown",
      "source": [
        "**#Addition,multiplication,divide function**"
      ],
      "metadata": {
        "id": "N0ljAlEkeMvg"
      }
    },
    {
      "cell_type": "code",
      "source": [
        "x1=tf.constant([2,9,9,3,5,6],dtype=tf.int32)\n",
        "x2=tf.constant([5,7,8,3,5,7],dtype=tf.int32)\n",
        "print(tf.add(x1,x2))"
      ],
      "metadata": {
        "colab": {
          "base_uri": "https://localhost:8080/"
        },
        "id": "K3q352PweSID",
        "outputId": "79eaf7f7-3107-4d43-a2c6-cd22df8763bd"
      },
      "execution_count": 12,
      "outputs": [
        {
          "output_type": "stream",
          "name": "stdout",
          "text": [
            "tf.Tensor([ 7 16 17  6 10 13], shape=(6,), dtype=int32)\n"
          ]
        }
      ]
    },
    {
      "cell_type": "markdown",
      "source": [
        "#**Broadcasting in tensors**"
      ],
      "metadata": {
        "id": "_4HdShNWhfDV"
      }
    },
    {
      "cell_type": "code",
      "source": [
        "#broadcasting-smaller tensor is streched out to math the bigger tensor. Here X2 is like [7,7,7,7,7,7]\n",
        "x1=tf.constant([2,9,9,3,5,6],dtype=tf.int32)\n",
        "x2=tf.constant([5],dtype=tf.int32)\n",
        "print(tf.math.add(x1,x2))"
      ],
      "metadata": {
        "colab": {
          "base_uri": "https://localhost:8080/"
        },
        "id": "1QX8J2_7f4t6",
        "outputId": "583d5937-4c96-4bb0-da0d-bd8f108d21dd"
      },
      "execution_count": 16,
      "outputs": [
        {
          "output_type": "stream",
          "name": "stdout",
          "text": [
            "tf.Tensor([ 7 14 14  8 10 11], shape=(6,), dtype=int32)\n"
          ]
        }
      ]
    },
    {
      "cell_type": "code",
      "source": [
        "#one row is streched out\n",
        "x1=tf.constant([[2,9,9,3,5,6],],dtype=tf.int32)\n",
        "x2=tf.constant([[5],[4],[8]],dtype=tf.int32)\n",
        "print(x1.shape)\n",
        "print(x2.shape)\n",
        "print(tf.math.multiply(x1,x2))"
      ],
      "metadata": {
        "colab": {
          "base_uri": "https://localhost:8080/"
        },
        "id": "bFYQdiQHhqCs",
        "outputId": "56651ccf-09d2-4ac2-db07-62f508e62bb9"
      },
      "execution_count": 22,
      "outputs": [
        {
          "output_type": "stream",
          "name": "stdout",
          "text": [
            "(1, 6)\n",
            "(3, 1)\n",
            "tf.Tensor(\n",
            "[[10 45 45 15 25 30]\n",
            " [ 8 36 36 12 20 24]\n",
            " [16 72 72 24 40 48]], shape=(3, 6), dtype=int32)\n"
          ]
        }
      ]
    },
    {
      "cell_type": "code",
      "source": [
        "x1=tf.constant([2,9,9,3,5,6],dtype=tf.int32)\n",
        "x2=tf.constant([5,7,8,3,5,7],dtype=tf.int32)\n",
        "print(tf.multiply(x1,x2))"
      ],
      "metadata": {
        "colab": {
          "base_uri": "https://localhost:8080/"
        },
        "id": "AYkUOE-Je7hc",
        "outputId": "d7a1a6d8-0828-418c-fdf6-14c4b7425e21"
      },
      "execution_count": 13,
      "outputs": [
        {
          "output_type": "stream",
          "name": "stdout",
          "text": [
            "tf.Tensor([10 63 72  9 25 42], shape=(6,), dtype=int32)\n"
          ]
        }
      ]
    },
    {
      "cell_type": "code",
      "source": [
        "#If divided by 0, its nan\n",
        "x1=tf.constant([2,9,9,3,5,6],dtype=tf.int32)\n",
        "x2=tf.constant([5,7,8,3,0,7],dtype=tf.int32)\n",
        "print(tf.divide(x1,x2))"
      ],
      "metadata": {
        "colab": {
          "base_uri": "https://localhost:8080/"
        },
        "id": "FAg673aPePtW",
        "outputId": "f1ecf10c-4d25-48c0-e6dc-716767499b9f"
      },
      "execution_count": 14,
      "outputs": [
        {
          "output_type": "stream",
          "name": "stdout",
          "text": [
            "tf.Tensor([0.4        1.28571429 1.125      1.                inf 0.85714286], shape=(6,), dtype=float64)\n"
          ]
        }
      ]
    },
    {
      "cell_type": "code",
      "source": [
        "#If divided by 0, no_nan method will handle nan and provide 0 as an o/p\n",
        "x1=tf.constant([2,9,9,3,5,6],dtype=tf.float32)\n",
        "x2=tf.constant([5,7,8,3,0,7],dtype=tf.float32)\n",
        "print(tf.math.divide_no_nan(x1,x2))"
      ],
      "metadata": {
        "colab": {
          "base_uri": "https://localhost:8080/"
        },
        "id": "1Rqk8mDbfa0v",
        "outputId": "c44c394a-f7bb-4e54-e119-7bdf5be598b1"
      },
      "execution_count": 15,
      "outputs": [
        {
          "output_type": "stream",
          "name": "stdout",
          "text": [
            "tf.Tensor([0.4        1.2857143  1.125      1.         0.         0.85714287], shape=(6,), dtype=float32)\n"
          ]
        }
      ]
    },
    {
      "cell_type": "markdown",
      "source": [
        "#Maximum within 2 tensors -tf.max\n",
        "tf.argmax-defines the position of the max value\n",
        "tf.argmin-defines the minimum value"
      ],
      "metadata": {
        "id": "S-6eDtI0jUU_"
      }
    },
    {
      "cell_type": "code",
      "source": [
        "x1_argmax=tf.constant([[2,9,9,3,5,6],\n",
        "               [5,7,8,3,0,7],\n",
        "               [6,5,9,3,1,7]])\n",
        "print(x1_argmax.shape)\n",
        "print(tf.math.argmax(x1_argmax))\n",
        "x2_argmax=tf.constant([[2,9,9,3,5,6],\n",
        "                       [5,7,8,3,0,7],\n",
        "                       [6,5,9,3,1,7]])\n",
        "print(x2_argmax.shape)\n",
        "# we are fixing the axis to 0, so the comparison will be done based on columns which is y axis\n",
        "print(tf.math.argmax(x2_argmax,0))\n",
        "\n",
        "#When changed axis=1, it will compare the rows of each vector\n",
        "x3_argmax=tf.constant([[2,9,9,3,5,6],\n",
        "                       [5,7,8,3,0,7],\n",
        "                       [6,5,9,3,1,7]])\n",
        "print(x3_argmax.shape)\n",
        "# we are fixing the axis to 0, so the comparison will be done based on columns which is y axis\n",
        "print(tf.math.argmax(x3_argmax,axis=1))"
      ],
      "metadata": {
        "colab": {
          "base_uri": "https://localhost:8080/"
        },
        "id": "y6ACRnKOjYrI",
        "outputId": "98025b5f-a5bd-41d5-e57c-f031ecf570da"
      },
      "execution_count": 3,
      "outputs": [
        {
          "output_type": "stream",
          "name": "stdout",
          "text": [
            "(3, 6)\n",
            "tf.Tensor([2 0 0 0 0 1], shape=(6,), dtype=int64)\n",
            "(3, 6)\n",
            "tf.Tensor([2 0 0 0 0 1], shape=(6,), dtype=int64)\n",
            "(3, 6)\n",
            "tf.Tensor([1 2 2], shape=(3,), dtype=int64)\n"
          ]
        }
      ]
    },
    {
      "cell_type": "code",
      "source": [
        "x1_argmax=tf.constant([2,9,9,3,5,6])\n",
        "print(tf.math.argmax(x1_argmax))\n",
        "x2_argmax=tf.constant([200,9,9,3,5,600])\n",
        "print(tf.math.argmax(x2_argmax))\n",
        "x3_argmax=tf.constant([200,9,900,3,5,600])\n",
        "print(tf.math.argmax(x3_argmax))\n",
        "x4_argmin=tf.constant([200,9,900,3,5,600])\n",
        "print(tf.math.argmin(x4_argmin))"
      ],
      "metadata": {
        "colab": {
          "base_uri": "https://localhost:8080/"
        },
        "id": "Gui33qTOkDJB",
        "outputId": "159ab791-5df1-4268-ab4f-ce5090498e5a"
      },
      "execution_count": 30,
      "outputs": [
        {
          "output_type": "stream",
          "name": "stdout",
          "text": [
            "tf.Tensor(1, shape=(), dtype=int64)\n",
            "tf.Tensor(5, shape=(), dtype=int64)\n",
            "tf.Tensor(2, shape=(), dtype=int64)\n",
            "tf.Tensor(3, shape=(), dtype=int64)\n"
          ]
        }
      ]
    },
    {
      "cell_type": "markdown",
      "source": [
        "#Other maths function\n",
        "1.tf.math.equal= Returns the truth value element wise\n",
        "2.tf.math.power-\n",
        "3.tf.math.reduce_sum=calculates the sum of all the elements, there are add,divide\n",
        "4. sigmoid function\n",
        "5.top_k"
      ],
      "metadata": {
        "id": "RQhsnVkpQis6"
      }
    },
    {
      "cell_type": "code",
      "source": [
        "x1_pow=tf.constant([2,5,5])\n",
        "x2_pow=tf.constant([3,4,2])\n",
        "tf.pow(x1_pow,x2_pow)"
      ],
      "metadata": {
        "colab": {
          "base_uri": "https://localhost:8080/"
        },
        "id": "PQKk7Q_7SSOQ",
        "outputId": "0f72d503-aebe-4542-d588-0a473e7d38ff"
      },
      "execution_count": 5,
      "outputs": [
        {
          "output_type": "execute_result",
          "data": {
            "text/plain": [
              "<tf.Tensor: shape=(3,), dtype=int32, numpy=array([  8, 625,  25], dtype=int32)>"
            ]
          },
          "metadata": {},
          "execution_count": 5
        }
      ]
    },
    {
      "cell_type": "code",
      "source": [
        "x1_reduce=tf.constant([[2,9,9],\n",
        "                      [5,7,8],\n",
        "                      [6,5,9],\n",
        "                      [4,8,2]],dtype=tf.float16)\n",
        "#print(x1_reduce)\n",
        "print(tf.math.reduce_sum(x1_reduce, axis=None, keepdims=False, name=None))\n",
        "print(tf.math.reduce_max(x1_reduce, axis=None, keepdims=False, name=None))\n",
        "#When axis=0, calculates the sum of each column\n",
        "print(tf.math.reduce_sum(x1_reduce, axis=0, keepdims=False, name=None))\n",
        "#Axis=1, calculates the sum of each row\n",
        "print(tf.math.reduce_sum(x1_reduce, axis=1, keepdims=False, name=None))\n",
        "#Finding the mean when axis=0,x axis is fixed, so calculates the column value of each tensor\n",
        "print(tf.math.reduce_mean(x1_reduce, axis=0, keepdims=False, name=None))\n",
        "\n",
        "print(tf.math.reduce_mean(x1_reduce, axis=0, keepdims=True, name=None))"
      ],
      "metadata": {
        "colab": {
          "base_uri": "https://localhost:8080/"
        },
        "id": "M-LD32pUS70W",
        "outputId": "4e278188-1729-42dd-cd81-5caf99d658e7"
      },
      "execution_count": 12,
      "outputs": [
        {
          "output_type": "stream",
          "name": "stdout",
          "text": [
            "tf.Tensor(74.0, shape=(), dtype=float16)\n",
            "tf.Tensor(9.0, shape=(), dtype=float16)\n",
            "tf.Tensor([17. 29. 28.], shape=(3,), dtype=float16)\n",
            "tf.Tensor([20. 20. 20. 14.], shape=(4,), dtype=float16)\n",
            "tf.Tensor([4.25 7.25 7.  ], shape=(3,), dtype=float16)\n",
            "tf.Tensor([[4.25 7.25 7.  ]], shape=(1, 3), dtype=float16)\n"
          ]
        }
      ]
    },
    {
      "cell_type": "code",
      "source": [
        "tf.math.top_k(x1_reduce,k=2)"
      ],
      "metadata": {
        "colab": {
          "base_uri": "https://localhost:8080/"
        },
        "id": "kPEdVkQ8YALJ",
        "outputId": "fbb3182f-1272-45ec-9820-aa593799d966"
      },
      "execution_count": 14,
      "outputs": [
        {
          "output_type": "execute_result",
          "data": {
            "text/plain": [
              "TopKV2(values=<tf.Tensor: shape=(4, 2), dtype=float16, numpy=\n",
              "array([[9., 9.],\n",
              "       [8., 7.],\n",
              "       [9., 6.],\n",
              "       [8., 4.]], dtype=float16)>, indices=<tf.Tensor: shape=(4, 2), dtype=int32, numpy=\n",
              "array([[1, 2],\n",
              "       [2, 1],\n",
              "       [2, 0],\n",
              "       [1, 0]], dtype=int32)>)"
            ]
          },
          "metadata": {},
          "execution_count": 14
        }
      ]
    }
  ]
}